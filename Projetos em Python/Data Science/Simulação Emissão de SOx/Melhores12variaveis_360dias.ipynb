{
 "cells": [
  {
   "cell_type": "markdown",
   "metadata": {},
   "source": [
    "# Manipulação dos dados\n",
    "## Retirando variáveis inúteis, alterando variáveis string para binário e repartindo os dados em X e Y"
   ]
  },
  {
   "cell_type": "code",
   "execution_count": 2,
   "metadata": {},
   "outputs": [],
   "source": [
    "import pandas as pd\n",
    "import numpy as np\n",
    "import matplotlib.pyplot as plt\n",
    "%matplotlib notebook\n",
    "#Importar o DataSet\n",
    "\n",
    "#PC do estágio\n",
    "#data = pd.read_excel(\"C:/Users/est.wesleymg/OneDrive - Votorantim/Votorantim Laranjeiras/Estudo_SOx/BaseDeDados/Dados_360dias_laranjeiras_12tags.xlsx\"\n",
    "#                    , sheet_name=0)\n",
    "#PC aqui de casa\n",
    "data = pd.read_excel(\"C:/Users/wesle/OneDrive - Votorantim/Votorantim Laranjeiras/Estudo_SOx/BaseDeDados/Dados_360dias_laranjeiras_12tags.xlsx\"\n",
    "                  , sheet_name=0)\n",
    "\n",
    "#eliminando dados do forno 1 (desativado)\n",
    "for tags in data.columns:\n",
    "    if 'W1'in tags:\n",
    "        data = data.drop(tags, axis=1)\n",
    "\n",
    "# Alterando algumas variáveis do tipo string para valores binários\n",
    "\n",
    "data = data.replace('Bad', 1)\n",
    "data = data.replace('SemProducao', 0)\n",
    "data = data.replace('Ligado', 1)\n",
    "data = data.replace('Desligado', 0)\n",
    "data = data.replace('No Sample', 0)\n",
    "data = data.replace('Normal', 1)\n",
    "data = data.replace('ON', 1)\n",
    "data = data.replace('Off', 0)\n",
    "data = data.replace('No Data', 0)\n",
    "data = data.replace('Comm Fail', 0)\n",
    "data = data.replace('Pt Created', 0)\n",
    "data = data.replace('Calc Failed', 0)\n",
    "data = data.replace('Invalid Data', 0)\n",
    "\n",
    "#pegando somente os últimos valores (2 últimos meses)\n",
    "data = data.tail(1440)\n",
    "#Salvando as datas numa variável\n",
    "\n",
    "datatempo = data['Data'].copy()\n",
    "\n",
    "#Apagando a variável Data do meu DataSet\n",
    "\n",
    "data = data.drop('Data', axis=1)\n",
    "#data = data.drop('CI-MSE_U3U14M1', axis=1)\n",
    "\n",
    "#Separando as variáveis em X e Y\n",
    "\n",
    "X = data.drop('CI-W2X22A4_COR', axis=1)\n",
    "y = data['CI-W2X22A4_COR']"
   ]
  },
  {
   "cell_type": "code",
   "execution_count": null,
   "metadata": {},
   "outputs": [],
   "source": [
    "data"
   ]
  },
  {
   "cell_type": "code",
   "execution_count": null,
   "metadata": {},
   "outputs": [],
   "source": [
    "from sklearn.feature_selection import SelectKBest\n",
    "from sklearn.feature_selection import f_regression, mutual_info_regression"
   ]
  },
  {
   "cell_type": "code",
   "execution_count": null,
   "metadata": {},
   "outputs": [],
   "source": [
    "f_regressor = SelectKBest(f_regression, k=5)\n",
    "selecao = f_regressor.fit(X,y)\n",
    "melhores_features = selecao.transform(X)\n",
    "print(melhores_features)"
   ]
  },
  {
   "cell_type": "code",
   "execution_count": null,
   "metadata": {},
   "outputs": [],
   "source": [
    "cols = selecao.get_support(indices=True)\n",
    "data.iloc[:,cols]"
   ]
  },
  {
   "cell_type": "code",
   "execution_count": null,
   "metadata": {},
   "outputs": [],
   "source": [
    "cols = selecao.get_support(indices=True)\n",
    "data.iloc[:,cols].columns"
   ]
  },
  {
   "cell_type": "code",
   "execution_count": null,
   "metadata": {},
   "outputs": [],
   "source": [
    "plt.plot(datatempo, data['CI-H2_SO3'], color='red', label='CI-J2T01X9')\n",
    "plt.plot(datatempo, data['CI-J2T01X8'], color='gray', label ='CI-MSE_J2T01M1_I1_PLC' )\n",
    "plt.plot(datatempo, data['CI-W2V21F1'], color='green', label= 'CI-MSE_J2T01M1_I2_PLC')\n",
    "#plt.plot(datatempo, data['CI-W2_OPER_ON'], color='blue', label='CI-W2PRODUZ_ON_2')\n",
    "plt.plot(datatempo, data['CI-W2X22A4_COR'], color='black', label ='CI-W2X22A4_COR' )\n",
    "plt.legend()\n",
    "plt.show()"
   ]
  },
  {
   "cell_type": "code",
   "execution_count": null,
   "metadata": {},
   "outputs": [],
   "source": [
    "data[['CI-J2T01X8', 'CI-H2_SO3','CI-W2X22A4_COR' ]].corr('spearman')"
   ]
  },
  {
   "cell_type": "code",
   "execution_count": null,
   "metadata": {},
   "outputs": [],
   "source": [
    "data.shape"
   ]
  },
  {
   "cell_type": "code",
   "execution_count": null,
   "metadata": {},
   "outputs": [],
   "source": [
    "y[y>0].describe()"
   ]
  },
  {
   "cell_type": "code",
   "execution_count": null,
   "metadata": {},
   "outputs": [],
   "source": [
    "%matplotlib notebook\n",
    "y[y>0].hist(bins=2000)"
   ]
  },
  {
   "cell_type": "code",
   "execution_count": null,
   "metadata": {},
   "outputs": [],
   "source": [
    "X['CI-H2_SO3'].describe()"
   ]
  },
  {
   "cell_type": "code",
   "execution_count": null,
   "metadata": {},
   "outputs": [],
   "source": [
    "%matplotlib notebook\n",
    "X['CI-H2_SO3'].hist(bins=100)"
   ]
  },
  {
   "cell_type": "markdown",
   "metadata": {},
   "source": [
    "# Dividindo os dados em teste e treino"
   ]
  },
  {
   "cell_type": "code",
   "execution_count": null,
   "metadata": {},
   "outputs": [],
   "source": [
    "from sklearn.model_selection import train_test_split\n",
    "\n",
    "X_train,X_test,y_train,y_test = train_test_split(X,y,random_state=0)"
   ]
  },
  {
   "cell_type": "markdown",
   "metadata": {},
   "source": [
    "# Aplicando os modelos (Ridge, Lasso, RandomForestRegressor, MLPRegressor)"
   ]
  },
  {
   "cell_type": "markdown",
   "metadata": {},
   "source": [
    "### Ridge"
   ]
  },
  {
   "cell_type": "code",
   "execution_count": null,
   "metadata": {},
   "outputs": [],
   "source": [
    "from sklearn.linear_model import Ridge\n",
    "ridge = Ridge(alpha=1)\n",
    "ridge.fit(X_train, y_train)\n",
    "train_score_ridge=ridge.score(X_train, y_train)\n",
    "test_score_ridge=ridge.score(X_test, y_test)\n",
    "\n",
    "print(train_score_ridge)\n",
    "print(test_score_ridge)"
   ]
  },
  {
   "cell_type": "code",
   "execution_count": null,
   "metadata": {},
   "outputs": [],
   "source": [
    "Variaveis_importantes_Ridge = []\n",
    "for tupla in sorted(zip(ridge.coef_, X.columns), reverse=True):\n",
    "    Variaveis_importantes_Ridge.append(tupla)"
   ]
  },
  {
   "cell_type": "markdown",
   "metadata": {},
   "source": [
    "### Ridge Regularizado"
   ]
  },
  {
   "cell_type": "code",
   "execution_count": null,
   "metadata": {},
   "outputs": [],
   "source": [
    "from sklearn.preprocessing import MinMaxScaler\n",
    "scaler = MinMaxScaler()\n",
    "X_train_scaled_Ridge = scaler.fit_transform(X_train)\n",
    "X_test_scaled_Ridge = scaler.fit_transform(X_test)\n",
    "\n",
    "linRidge = Ridge(alpha=100)\n",
    "linRidge.fit(X_train_scaled_Ridge, y_train)\n",
    "train_scaled_score_ridge=ridge.score(X_train_scaled_Ridge, y_train)\n",
    "test_scaled_score_ridge=ridge.score(X_test_scaled_Ridge, y_test)\n",
    "print(train_scaled_score_ridge)\n",
    "print(test_scaled_score_ridge)"
   ]
  },
  {
   "cell_type": "markdown",
   "metadata": {},
   "source": [
    "### Lasso"
   ]
  },
  {
   "cell_type": "code",
   "execution_count": null,
   "metadata": {},
   "outputs": [],
   "source": [
    "from sklearn.linear_model import Lasso\n",
    "Lassos = Lasso(max_iter=100000, alpha=10)\n",
    "Lassos.fit(X_train, y_train)\n",
    "train_score_Lasso=Lassos.score(X_train, y_train)\n",
    "test_score_Lasso=Lassos.score(X_test, y_test)\n",
    "\n",
    "print(train_score_Lasso)\n",
    "print(test_score_Lasso)"
   ]
  },
  {
   "cell_type": "code",
   "execution_count": null,
   "metadata": {},
   "outputs": [],
   "source": [
    "Variaveis_importantes_Lasso = []\n",
    "for tupla1 in sorted(zip(Lassos.coef_, X.columns), reverse=True):\n",
    "    Variaveis_importantes_Lasso.append(tupla1)"
   ]
  },
  {
   "cell_type": "markdown",
   "metadata": {},
   "source": [
    "### Regressão Polinomial Grau 2"
   ]
  },
  {
   "cell_type": "code",
   "execution_count": null,
   "metadata": {},
   "outputs": [],
   "source": [
    "from sklearn.preprocessing import PolynomialFeatures\n",
    "features_2 = PolynomialFeatures(degree=4)\n",
    "#X_train_2 = X_train.reshape(-1,1)\n",
    "X_train_poly2 = features_2.fit_transform(X_train)\n",
    "X_test_poly2 = features_2.fit_transform(X_test)\n",
    "X_train_poly2.shape"
   ]
  },
  {
   "cell_type": "markdown",
   "metadata": {},
   "source": [
    "#### Modelo Linear"
   ]
  },
  {
   "cell_type": "code",
   "execution_count": null,
   "metadata": {},
   "outputs": [],
   "source": [
    "from sklearn.linear_model import LinearRegression\n",
    "modelo_linear_2 = LinearRegression()\n",
    "modelo_linear_2.fit(X_train_poly2, y_train)\n",
    "train_score_linear_2=modelo_linear_2.score(X_train_poly2, y_train)\n",
    "test_score_linear_2=modelo_linear_2.score(X_test_poly2, y_test)\n",
    "print(train_score_linear_2)\n",
    "print(test_score_linear_2)"
   ]
  },
  {
   "cell_type": "markdown",
   "metadata": {},
   "source": [
    "#### Ridge"
   ]
  },
  {
   "cell_type": "code",
   "execution_count": null,
   "metadata": {},
   "outputs": [],
   "source": [
    "modelo_Ridge_2 = Ridge(alpha=10)\n",
    "modelo_Ridge_2.fit(X_train_poly2, y_train)\n",
    "train_score_linear_2=modelo_Ridge_2.score(X_train_poly2, y_train)\n",
    "test_score_linear_2=modelo_Ridge_2.score(X_test_poly2, y_test)\n",
    "print(train_score_linear_2)\n",
    "print(test_score_linear_2)"
   ]
  },
  {
   "cell_type": "markdown",
   "metadata": {},
   "source": [
    "#### Lasso"
   ]
  },
  {
   "cell_type": "code",
   "execution_count": null,
   "metadata": {},
   "outputs": [],
   "source": [
    "modelo_Lasso_2 = Lasso(alpha=10, max_iter=1000000)\n",
    "modelo_Lasso_2.fit(X_train_poly2, y_train)\n",
    "train_score_Lasso_2=modelo_Lasso_2.score(X_train_poly2, y_train)\n",
    "test_score_Lasso_2=modelo_Lasso_2.score(X_test_poly2, y_test)\n",
    "print(train_score_Lasso_2)\n",
    "print(test_score_Lasso_2)"
   ]
  },
  {
   "cell_type": "markdown",
   "metadata": {},
   "source": [
    "### RandomForestRegressor"
   ]
  },
  {
   "cell_type": "code",
   "execution_count": null,
   "metadata": {},
   "outputs": [],
   "source": [
    "from sklearn.ensemble import RandomForestRegressor\n",
    "from sklearn.model_selection import GridSearchCV\n",
    "parametros = {'max_features':np.arange(6,12),'n_estimators':[500],'min_samples_leaf': [10,50,100,200,500]}\n",
    "modelo_r = RandomForestRegressor()\n",
    "grid = GridSearchCV(modelo_r, param_grid=parametros, cv=3)\n",
    "grid.fit(X_train, y_train)\n",
    "print(f'Os melhores parâmetros são: {grid.best_estimator_} \\n com o score: {grid.best_score_}')"
   ]
  },
  {
   "cell_type": "code",
   "execution_count": null,
   "metadata": {},
   "outputs": [],
   "source": [
    "from sklearn.ensemble import RandomForestRegressor\n",
    "#modelo = RandomForestRegressor(max_features=9, min_samples_leaf=50, n_estimators=500, random_state=0)\n",
    "modelo = RandomForestRegressor(max_features=10, min_samples_leaf=10,\n",
    "                      n_estimators=500, random_state=0)\n",
    "modelo.fit(X_train,y_train)\n",
    "R2_treino = modelo.score(X_train,y_train)\n",
    "R2_teste = modelo.score(X_test,y_test)\n",
    "print(R2_treino)\n",
    "print(R2_teste)"
   ]
  },
  {
   "cell_type": "code",
   "execution_count": null,
   "metadata": {},
   "outputs": [],
   "source": [
    "Variaveis_importantes_RandomForest = []\n",
    "for tuplax in sorted(zip(modelo.feature_importances_, X.columns), reverse=True):\n",
    "    Variaveis_importantes_RandomForest.append(tuplax)"
   ]
  },
  {
   "cell_type": "markdown",
   "metadata": {},
   "source": [
    "### MLPRegressor"
   ]
  },
  {
   "cell_type": "code",
   "execution_count": null,
   "metadata": {},
   "outputs": [],
   "source": [
    "from sklearn.neural_network import MLPRegressor\n",
    "from sklearn.model_selection import GridSearchCV\n",
    "parametros_m = {'hidden_layer_sizes': [(30,30), (35,35), (40,40)], 'alpha':[10**-3, 1e-01,1,10,100,200]}\n",
    "modelo_m = MLPRegressor(random_state=0, max_iter=10000, solver='lbfgs')\n",
    "grid_m = GridSearchCV(modelo_m, param_grid=parametros_m, cv=3)\n",
    "grid_m.fit(X_train, y_train)\n",
    "print(f'Os melhores parâmetros são: {grid_m.best_estimator_} \\n com o score: {grid_m.best_score_}')"
   ]
  },
  {
   "cell_type": "code",
   "execution_count": null,
   "metadata": {},
   "outputs": [],
   "source": [
    "from sklearn.neural_network import MLPRegressor\n",
    "#modelo_RedeNeural = MLPRegressor(hidden_layer_sizes=(10,10),alpha=1,solver='lbfgs',\n",
    "#                                 max_iter=2000, random_state=0).fit(X_train,y_train)\n",
    "modelo_RedeNeural = MLPRegressor(alpha=0.1, hidden_layer_sizes=(30, 30), max_iter=10000,\n",
    "             random_state=0, solver='lbfgs').fit(X_train,y_train)\n",
    "R2_treino_RedeNeural = modelo_RedeNeural.score(X_train,y_train)\n",
    "R2_teste_RedeNeural = modelo_RedeNeural.score(X_test,y_test)\n",
    "\n",
    "print(R2_treino_RedeNeural)\n",
    "print(R2_teste_RedeNeural)"
   ]
  },
  {
   "cell_type": "markdown",
   "metadata": {},
   "source": [
    "### SVR "
   ]
  },
  {
   "cell_type": "code",
   "execution_count": null,
   "metadata": {},
   "outputs": [],
   "source": [
    "from sklearn.svm import SVR\n",
    "modelo_SVR = SVR(kernel='poly', gamma=10**-5).fit(X_train, y_train)\n",
    "R2_treino_svr = modelo_SVR.score(X_train, y_train)\n",
    "R2_teste_svr = modelo_SVR.score(X_test, y_test)\n",
    "\n",
    "print(R2_treino_svr)\n",
    "print(R2_teste_svr)"
   ]
  },
  {
   "cell_type": "markdown",
   "metadata": {},
   "source": [
    "### KNN"
   ]
  },
  {
   "cell_type": "code",
   "execution_count": null,
   "metadata": {},
   "outputs": [],
   "source": [
    "from sklearn.neighbors import KNeighborsRegressor\n",
    "modelo_knn = KNeighborsRegressor(n_neighbors=5).fit(X_train, y_train)\n",
    "R2_treino_knn = modelo_knn.score(X_train,y_train)\n",
    "R2_teste_knn = modelo_knn.score(X_test,y_test)\n",
    "print(R2_treino_knn)\n",
    "print(R2_teste_knn)"
   ]
  },
  {
   "cell_type": "markdown",
   "metadata": {},
   "source": [
    "# Importando dados de um dia de operação para realizar o teste dos modelos!"
   ]
  },
  {
   "cell_type": "code",
   "execution_count": null,
   "metadata": {},
   "outputs": [],
   "source": [
    "#PC do estágio\n",
    "datat = pd.read_excel(\"C:/Users/est.wesleymg/OneDrive - Votorantim/Votorantim Laranjeiras/Estudo_SOx/BaseDeDados/Dados_360dias_laranjeiras_12tags.xlsx\"\n",
    "                    , sheet_name=1)\n",
    "#PC aqui de casa\n",
    "#datat = pd.read_excel(\"C:/Users/werico/OneDrive - Votorantim/Votorantim Laranjeiras/Estudo_SOx/BaseDeDados/Dados_360dias_laranjeiras_64tags.xlsx\"\n",
    "#                  , sheet_name=1)\n",
    "\n",
    "\n",
    "# Alterando algumas variáveis do tipo string para valores binários\n",
    "\n",
    "datat = datat.replace('Bad', 1)\n",
    "datat = datat.replace('SemProducao', 0)\n",
    "datat = datat.replace('Ligado', 1)\n",
    "datat = datat.replace('Desligado', 0)\n",
    "datat = datat.replace('No Sample', 0)\n",
    "datat = datat.replace('Normal', 1)\n",
    "datat = datat.replace('ON', 1)\n",
    "datat = datat.replace('Off', 0)\n",
    "datat = datat.replace('No Data', 0)\n",
    "datat = datat.replace('Comm Fail', 0)\n",
    "datat = datat.replace('Pt Created', 0)\n",
    "datat = datat.replace('Calc Failed', 0)\n",
    "datat = datat.replace('Invalid Data', 0)\n",
    "#datat = datat.drop('CI-W2X22A4', axis=1)\n",
    "\n",
    "#Limpando dados do tipo string\n",
    "\n",
    "\"\"\"lista_str_t = []\n",
    "\n",
    "for label_t in datat.columns:\n",
    "    for value_t in datat[label_t]:\n",
    "        if type(value_t) is str:\n",
    "            if label_t not in lista_str_t:\n",
    "                lista_str_t.append(label_t)\n",
    "\n",
    "datat = datat.drop(lista_str_t, axis=1)\"\"\"\n",
    "#Salvando as datas numa variável\n",
    "\n",
    "DataTempoT = datat['Data'].copy()\n",
    "\n",
    "#Apagando a variável Data do meu DataSet\n",
    "\n",
    "datat = datat.drop('Data', axis=1)\n",
    "#datat = datat.drop(lista, axis=1)\n",
    "\n",
    "#Separando as variáveis em X e Y\n",
    "\n",
    "X1 = datat.drop('CI-W2X22A4_COR', axis=1)\n",
    "y1 = datat['CI-W2X22A4_COR']"
   ]
  },
  {
   "cell_type": "code",
   "execution_count": null,
   "metadata": {},
   "outputs": [],
   "source": [
    "X1.shape"
   ]
  },
  {
   "cell_type": "code",
   "execution_count": null,
   "metadata": {},
   "outputs": [],
   "source": [
    "X.shape"
   ]
  },
  {
   "cell_type": "markdown",
   "metadata": {},
   "source": [
    "# Comparando os resultados dos modelos"
   ]
  },
  {
   "cell_type": "code",
   "execution_count": null,
   "metadata": {},
   "outputs": [],
   "source": [
    "Resultados = []\n",
    "for result in zip(ridge.predict(X1), Lassos.predict(X1), modelo.predict(X1), modelo_RedeNeural.predict(X1),\n",
    "                  modelo_SVR.predict(X1), modelo_knn.predict(X1), y1):\n",
    "    Resultados.append(result)\n",
    "scores = pd.DataFrame(Resultados, columns = ['Ridge', 'Lasso', 'RandomForest', 'MLP', 'SVR', 'KNN', 'Dados da Planta'])\n",
    "scores['Data'] = DataTempoT\n",
    "scores.head(50)"
   ]
  },
  {
   "cell_type": "code",
   "execution_count": null,
   "metadata": {},
   "outputs": [],
   "source": [
    "%matplotlib notebook\n",
    "plt.plot(scores['Data'], scores['Ridge'], color='blue', label='Ridge' )\n",
    "plt.plot(scores['Data'], scores['Lasso'], color = 'green', label='Lasso')\n",
    "plt.plot(scores['Data'], scores['RandomForest'], color = 'red', label='RandomForest')\n",
    "plt.plot(scores['Data'], scores['MLP'], color = 'gray', label='MLP')\n",
    "plt.plot(scores['Data'], scores['KNN'], color = 'purple', label='KNN')\n",
    "plt.plot(scores['Data'], scores['Dados da Planta'], color='yellow', label='Dados da Planta')\n",
    "plt.xlabel(\"Data\")\n",
    "plt.ylabel(\"Emissão SOX\")\n",
    "plt.title('Comparação entre Modelos de Regressão')\n",
    "plt.legend()\n",
    "plt.show()"
   ]
  },
  {
   "cell_type": "markdown",
   "metadata": {},
   "source": [
    "## Variáveis importantes para cada modelo"
   ]
  },
  {
   "cell_type": "markdown",
   "metadata": {},
   "source": [
    "### Ridge"
   ]
  },
  {
   "cell_type": "code",
   "execution_count": null,
   "metadata": {},
   "outputs": [],
   "source": [
    "Variaveis_importantes_Ridge"
   ]
  },
  {
   "cell_type": "code",
   "execution_count": null,
   "metadata": {},
   "outputs": [],
   "source": [
    "for c in Variaveis_importantes_Ridge:\n",
    "    if c[0]>0:\n",
    "        print(c[1])\n"
   ]
  },
  {
   "cell_type": "markdown",
   "metadata": {},
   "source": [
    "### Lasso"
   ]
  },
  {
   "cell_type": "code",
   "execution_count": null,
   "metadata": {},
   "outputs": [],
   "source": [
    "Variaveis_importantes_Lasso"
   ]
  },
  {
   "cell_type": "code",
   "execution_count": null,
   "metadata": {},
   "outputs": [],
   "source": [
    "for c in Variaveis_importantes_Lasso:\n",
    "    if c[0]>0:\n",
    "        print(c[1])"
   ]
  },
  {
   "cell_type": "markdown",
   "metadata": {},
   "source": [
    "### RandomForestRegressor"
   ]
  },
  {
   "cell_type": "code",
   "execution_count": null,
   "metadata": {},
   "outputs": [],
   "source": [
    "Variaveis_importantes_RandomForest"
   ]
  },
  {
   "cell_type": "code",
   "execution_count": null,
   "metadata": {},
   "outputs": [],
   "source": [
    "datat[['CI-H3_SO3', 'CI-W2X22A4_COR']].tail(50)"
   ]
  },
  {
   "cell_type": "code",
   "execution_count": null,
   "metadata": {},
   "outputs": [],
   "source": [
    "c = 0\n",
    "for x in Variaveis_importantes_RandomForest:\n",
    "    c = c+ 1\n",
    "    if 'CI-H3_SO3' in x[1]:\n",
    "        print(x[])"
   ]
  },
  {
   "cell_type": "code",
   "execution_count": null,
   "metadata": {},
   "outputs": [],
   "source": [
    "c = 0\n",
    "for x in Variaveis_importantes_Ridge:\n",
    "    c = c+ 1\n",
    "    if 'SO3' in x[1]:\n",
    "        print(x[0])"
   ]
  },
  {
   "cell_type": "code",
   "execution_count": null,
   "metadata": {},
   "outputs": [],
   "source": [
    "c = 0\n",
    "for x in Variaveis_importantes_Lasso:\n",
    "    c = c+ 1\n",
    "    if 'SO3' in x[1]:\n",
    "        print(x[0])"
   ]
  },
  {
   "cell_type": "code",
   "execution_count": null,
   "metadata": {},
   "outputs": [],
   "source": [
    "data[['CI-H3_SO3', 'CI-W2X22A4_COR']].corr()"
   ]
  },
  {
   "cell_type": "code",
   "execution_count": null,
   "metadata": {},
   "outputs": [],
   "source": [
    "data[['CI-W2V21F1_T', 'CI-W2X22A4_COR']].corr()"
   ]
  },
  {
   "cell_type": "code",
   "execution_count": null,
   "metadata": {},
   "outputs": [],
   "source": []
  }
 ],
 "metadata": {
  "kernelspec": {
   "display_name": "Python 3",
   "language": "python",
   "name": "python3"
  },
  "language_info": {
   "codemirror_mode": {
    "name": "ipython",
    "version": 3
   },
   "file_extension": ".py",
   "mimetype": "text/x-python",
   "name": "python",
   "nbconvert_exporter": "python",
   "pygments_lexer": "ipython3",
   "version": "3.8.3"
  }
 },
 "nbformat": 4,
 "nbformat_minor": 2
}
