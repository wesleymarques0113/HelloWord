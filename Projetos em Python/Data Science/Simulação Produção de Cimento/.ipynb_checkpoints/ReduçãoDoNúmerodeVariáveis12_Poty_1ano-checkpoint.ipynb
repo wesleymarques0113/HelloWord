{
 "cells": [
  {
   "cell_type": "markdown",
   "metadata": {},
   "source": [
    "# Manipulação dos dados\n",
    "## Retirando variáveis inúteis, alterando variáveis string para binário e repartindo os dados em X e Y"
   ]
  },
  {
   "cell_type": "code",
   "execution_count": 1,
   "metadata": {},
   "outputs": [],
   "source": [
    "import pandas as pd\n",
    "import numpy as np\n",
    "import matplotlib.pyplot as plt\n",
    "%matplotlib notebook\n",
    "#Importar o DataSet\n",
    "\n",
    "#PC do estágio\n",
    "#data = pd.read_excel(\"C:/Users/est.wesleymg/OneDrive - Votorantim/Votorantim CA/Sistema PI/Dados_um_mes_poty_12variaveis_treino.xlsx\")\n",
    "#PC aqui de casa\n",
    "data = pd.read_excel(\"C:/Users/wesle/OneDrive - Votorantim/Votorantim CA/Sistema PI/Dados_1ano_poty_12variaveis_treino.xlsx\")\n",
    "\n",
    "#Apagando as variáveis que contém 'W' (Forno desativado)\n",
    "\n",
    "for tags in data.columns:\n",
    "    if 'W' in tags:\n",
    "        data = data.drop(tags, axis=1)\n",
    "\n",
    "# Alterando algumas variáveis do tipo string para valores binários\n",
    "\n",
    "data = data.replace('Bad', 1)\n",
    "data = data.replace('CPIIZ32', 1)\n",
    "data = data.replace('CPIIZ40', 2)\n",
    "data = data.replace('SemProducao', 0)\n",
    "data = data.replace('Ligado', 1)\n",
    "data = data.replace('Desligado', 0)\n",
    "data = data.replace('No Sample', 0)\n",
    "data = data.replace('Normal', 1)\n",
    "data = data.replace('No Data', 0)\n",
    "#data = data.drop('PP-Z1HE_CPIIZ32_OBS', axis=1)\n",
    "#Salvando as datas numa variável\n",
    "\n",
    "datatempo = data['Data'].copy\n",
    "\n",
    "#Apagando a variável Data do meu DataSet\n",
    "\n",
    "data = data.drop('Data', axis=1)\n",
    "\n",
    "#Separando as variáveis em X e Y\n",
    "\n",
    "X = data.drop('PP-Z1PRODUCAO', axis=1)\n",
    "y = data['PP-Z1PRODUCAO']\n"
   ]
  },
  {
   "cell_type": "markdown",
   "metadata": {},
   "source": [
    "# Dividindo os dados em teste e treino"
   ]
  },
  {
   "cell_type": "code",
   "execution_count": 2,
   "metadata": {},
   "outputs": [],
   "source": [
    "from sklearn.model_selection import train_test_split\n",
    "\n",
    "X_train,X_test,y_train,y_test = train_test_split(X,y,random_state=0)"
   ]
  },
  {
   "cell_type": "markdown",
   "metadata": {},
   "source": [
    "# Aplicando os modelos (Ridge, Lasso, RandomForestRegressor, MLPRegressor)"
   ]
  },
  {
   "cell_type": "markdown",
   "metadata": {},
   "source": [
    "### Ridge"
   ]
  },
  {
   "cell_type": "code",
   "execution_count": 3,
   "metadata": {},
   "outputs": [
    {
     "name": "stdout",
     "output_type": "stream",
     "text": [
      "0.9897079311160437\n",
      "0.98697514638744\n"
     ]
    }
   ],
   "source": [
    "from sklearn.linear_model import Ridge\n",
    "ridge = Ridge()\n",
    "ridge.fit(X_train, y_train)\n",
    "train_score_ridge=ridge.score(X_train, y_train)\n",
    "test_score_ridge=ridge.score(X_test, y_test)\n",
    "\n",
    "print(train_score_ridge)\n",
    "print(test_score_ridge)"
   ]
  },
  {
   "cell_type": "code",
   "execution_count": 4,
   "metadata": {},
   "outputs": [],
   "source": [
    "Variaveis_importantes_Ridge = []\n",
    "for tupla in sorted(zip(ridge.coef_, X.columns), reverse=True):\n",
    "    Variaveis_importantes_Ridge.append(tupla)"
   ]
  },
  {
   "cell_type": "markdown",
   "metadata": {},
   "source": [
    "### Lasso"
   ]
  },
  {
   "cell_type": "code",
   "execution_count": 5,
   "metadata": {},
   "outputs": [
    {
     "name": "stdout",
     "output_type": "stream",
     "text": [
      "0.9894058938951856\n",
      "0.9864745202974725\n"
     ]
    }
   ],
   "source": [
    "from sklearn.linear_model import Lasso\n",
    "Lassos = Lasso(max_iter=100000)\n",
    "Lassos.fit(X_train, y_train)\n",
    "train_score_Lasso=Lassos.score(X_train, y_train)\n",
    "test_score_Lasso=Lassos.score(X_test, y_test)\n",
    "\n",
    "print(train_score_Lasso)\n",
    "print(test_score_Lasso)"
   ]
  },
  {
   "cell_type": "code",
   "execution_count": 6,
   "metadata": {},
   "outputs": [],
   "source": [
    "Variaveis_importantes_Lasso = []\n",
    "for tupla1 in sorted(zip(Lassos.coef_, X.columns), reverse=True):\n",
    "    Variaveis_importantes_Lasso.append(tupla1)"
   ]
  },
  {
   "cell_type": "markdown",
   "metadata": {},
   "source": [
    "### RandomForestRegressor"
   ]
  },
  {
   "cell_type": "code",
   "execution_count": 7,
   "metadata": {},
   "outputs": [
    {
     "name": "stdout",
     "output_type": "stream",
     "text": [
      "Os melhores parâmetros são: RandomForestRegressor(max_features='sqrt', n_estimators=63, random_state=0) \n",
      " com o score: 0.9959731901682144\n"
     ]
    }
   ],
   "source": [
    "from sklearn.ensemble import RandomForestRegressor\n",
    "from sklearn.model_selection import GridSearchCV\n",
    "parametros = {'n_estimators': [ 63, 65, 66], 'random_state':[0], 'max_features':['sqrt']}\n",
    "modelo_r = RandomForestRegressor()\n",
    "grid = GridSearchCV(modelo_r, param_grid=parametros, cv=3)\n",
    "grid.fit(X_train, y_train)\n",
    "print(f'Os melhores parâmetros são: {grid.best_estimator_} \\n com o score: {grid.best_score_}')\n"
   ]
  },
  {
   "cell_type": "code",
   "execution_count": null,
   "metadata": {},
   "outputs": [],
   "source": [
    "from sklearn.ensemble import RandomForestRegressor\n",
    "modelo = RandomForestRegressor(max_features='sqrt',n_estimators=63, random_state=0)\n",
    "modelo.fit(X_train,y_train)\n",
    "R2_treino = modelo.score(X_train,y_train)\n",
    "R2_teste = modelo.score(X_test,y_test)\n",
    "print(R2_treino)\n",
    "print(R2_teste)"
   ]
  },
  {
   "cell_type": "code",
   "execution_count": 54,
   "metadata": {},
   "outputs": [],
   "source": [
    "Variaveis_importantes_RandomForest = []\n",
    "for tuplax in sorted(zip(modelo.feature_importances_, X.columns), reverse=True):\n",
    "    Variaveis_importantes_RandomForest.append(tuplax)"
   ]
  },
  {
   "cell_type": "markdown",
   "metadata": {},
   "source": [
    "### MLPRegressor"
   ]
  },
  {
   "cell_type": "code",
   "execution_count": 99,
   "metadata": {},
   "outputs": [
    {
     "name": "stdout",
     "output_type": "stream",
     "text": [
      "Os melhores parâmetros são: MLPRegressor(activation='relu', alpha=50, batch_size='auto', beta_1=0.9,\n",
      "       beta_2=0.999, early_stopping=False, epsilon=1e-08,\n",
      "       hidden_layer_sizes=(14, 14), learning_rate='constant',\n",
      "       learning_rate_init=0.001, max_iter=10000, momentum=0.9,\n",
      "       n_iter_no_change=10, nesterovs_momentum=True, power_t=0.5,\n",
      "       random_state=0, shuffle=True, solver='lbfgs', tol=0.0001,\n",
      "       validation_fraction=0.1, verbose=False, warm_start=False) \n",
      " com o score: 0.9951693235333835\n"
     ]
    }
   ],
   "source": [
    "from sklearn.neural_network import MLPRegressor\n",
    "from sklearn.model_selection import GridSearchCV\n",
    "parametros_m = {'hidden_layer_sizes': [(14,14)], 'alpha':[1e-06, 1e-05, 1e-04, 1e-03, 1e-02, 1e-01, 1,10,20,50,100,200]}\n",
    "modelo_m = MLPRegressor(random_state=0, max_iter=10000, solver='lbfgs')\n",
    "grid_m = GridSearchCV(modelo_m, param_grid=parametros_m, cv=3)\n",
    "grid_m.fit(X_train, y_train)\n",
    "print(f'Os melhores parâmetros são: {grid_m.best_estimator_} \\n com o score: {grid_m.best_score_}')"
   ]
  },
  {
   "cell_type": "code",
   "execution_count": 9,
   "metadata": {},
   "outputs": [
    {
     "name": "stdout",
     "output_type": "stream",
     "text": [
      "0.9936039672347697\n",
      "0.9939684425843655\n"
     ]
    }
   ],
   "source": [
    "from sklearn.neural_network import MLPRegressor\n",
    "modelo_RedeNeural = MLPRegressor(hidden_layer_sizes=(14,14), alpha=10,\n",
    "                                 solver='lbfgs', max_iter=10000, random_state=0).fit(X_train,y_train)\n",
    "R2_treino_RedeNeural = modelo_RedeNeural.score(X_train,y_train)\n",
    "R2_teste_RedeNeural = modelo_RedeNeural.score(X_test,y_test)\n",
    "\n",
    "print(R2_treino_RedeNeural)\n",
    "print(R2_teste_RedeNeural)"
   ]
  },
  {
   "cell_type": "code",
   "execution_count": 10,
   "metadata": {},
   "outputs": [
    {
     "name": "stdout",
     "output_type": "stream",
     "text": [
      "0.9971825391285357\n",
      "0.9954197234811812\n"
     ]
    }
   ],
   "source": [
    "from sklearn.neighbors import KNeighborsRegressor\n",
    "modelo_knn = KNeighborsRegressor(n_neighbors=3).fit(X_train, y_train)\n",
    "R2_treino_knn = modelo_knn.score(X_train,y_train)\n",
    "R2_teste_knn = modelo_knn.score(X_test,y_test)\n",
    "print(R2_treino_knn)\n",
    "print(R2_teste_knn)"
   ]
  },
  {
   "cell_type": "markdown",
   "metadata": {},
   "source": [
    "# Importando dados de um dia de operação para realizar o teste dos modelos!"
   ]
  },
  {
   "cell_type": "code",
   "execution_count": 11,
   "metadata": {},
   "outputs": [],
   "source": [
    "#caminho no PC do estágio\n",
    "#datat = pd.read_excel(\"C:/Users/est.wesleymg/OneDrive - Votorantim/Votorantim CA/Sistema PI/Dados_um_mes_poty_12variaveis_treino.xlsx\")\n",
    "#caminho no meu pc\n",
    "datat = pd.read_excel(\"C:/Users/wesle/OneDrive - Votorantim/Votorantim CA/Sistema PI/Dados_um_mes_poty_12variaveis_teste.xlsx\")\n",
    "\n",
    "#Limpando dados do forno (que está desativado)\n",
    "for tags in datat.columns:\n",
    "    if 'W' in tags:\n",
    "        datat = datat.drop(tags, axis=1)\n",
    "        \n",
    "#Substituindo alguns valores de string por número\n",
    "datat = datat.replace('Bad', 1)\n",
    "datat = datat.replace('CPIIZ32', 1)\n",
    "datat = datat.replace('CPIIZ40', 1)\n",
    "datat = datat.replace('SemProducao', 0)\n",
    "datat = datat.replace('Ligado', 1)\n",
    "datat = datat.replace('Desligado', 0)\n",
    "datat = datat.replace('Normal', 1)\n",
    "datat = datat.replace('No Sample', 0)\n",
    "datat = datat.replace('Bad', 1)\n",
    "#datat = datat.drop('PP-Z1HE_CPIIZ32_OBS', axis=1)\n",
    "#Limpando valores do tipo texto\n",
    "#for tag in datat.columns:\n",
    "#    if datat[tag].dtype == object:\n",
    "#        datat = datat.drop(tag, axis=1)\n",
    "\n",
    "DataTempoT = datat['Data'].copy()\n",
    "#Apagando dados do tipo data\n",
    "datat = datat.drop('Data', axis=1)\n",
    "\n",
    "#Definindo eixo X e y\n",
    "X1 = datat.drop('PP-Z1PRODUCAO', axis=1)\n",
    "y1 = datat['PP-Z1PRODUCAO']"
   ]
  },
  {
   "cell_type": "markdown",
   "metadata": {},
   "source": [
    "# Comparando os resultados dos modelos"
   ]
  },
  {
   "cell_type": "code",
   "execution_count": 12,
   "metadata": {},
   "outputs": [
    {
     "data": {
      "text/html": [
       "<div>\n",
       "<style scoped>\n",
       "    .dataframe tbody tr th:only-of-type {\n",
       "        vertical-align: middle;\n",
       "    }\n",
       "\n",
       "    .dataframe tbody tr th {\n",
       "        vertical-align: top;\n",
       "    }\n",
       "\n",
       "    .dataframe thead th {\n",
       "        text-align: right;\n",
       "    }\n",
       "</style>\n",
       "<table border=\"1\" class=\"dataframe\">\n",
       "  <thead>\n",
       "    <tr style=\"text-align: right;\">\n",
       "      <th></th>\n",
       "      <th>Ridge</th>\n",
       "      <th>Lasso</th>\n",
       "      <th>RandomForest</th>\n",
       "      <th>MLP</th>\n",
       "      <th>KNN</th>\n",
       "      <th>Dados da Planta</th>\n",
       "      <th>Data</th>\n",
       "    </tr>\n",
       "  </thead>\n",
       "  <tbody>\n",
       "    <tr>\n",
       "      <th>0</th>\n",
       "      <td>1174.921155</td>\n",
       "      <td>528.828769</td>\n",
       "      <td>9.017117</td>\n",
       "      <td>-2284.601648</td>\n",
       "      <td>7.466873e-37</td>\n",
       "      <td>1.893240e-36</td>\n",
       "      <td>2020-08-08 00:00:00</td>\n",
       "    </tr>\n",
       "    <tr>\n",
       "      <th>1</th>\n",
       "      <td>1175.011881</td>\n",
       "      <td>528.622922</td>\n",
       "      <td>9.017117</td>\n",
       "      <td>-2285.041835</td>\n",
       "      <td>7.466873e-37</td>\n",
       "      <td>3.362133e-36</td>\n",
       "      <td>2020-08-07 23:00:00</td>\n",
       "    </tr>\n",
       "    <tr>\n",
       "      <th>2</th>\n",
       "      <td>1175.189665</td>\n",
       "      <td>528.512801</td>\n",
       "      <td>9.017117</td>\n",
       "      <td>-2285.338198</td>\n",
       "      <td>7.466873e-37</td>\n",
       "      <td>4.831026e-36</td>\n",
       "      <td>2020-08-07 22:00:00</td>\n",
       "    </tr>\n",
       "    <tr>\n",
       "      <th>3</th>\n",
       "      <td>1175.453622</td>\n",
       "      <td>528.545974</td>\n",
       "      <td>9.017117</td>\n",
       "      <td>-2285.384381</td>\n",
       "      <td>7.466873e-37</td>\n",
       "      <td>6.299919e-36</td>\n",
       "      <td>2020-08-07 21:00:00</td>\n",
       "    </tr>\n",
       "    <tr>\n",
       "      <th>4</th>\n",
       "      <td>1175.490838</td>\n",
       "      <td>528.339563</td>\n",
       "      <td>9.017117</td>\n",
       "      <td>-2285.768262</td>\n",
       "      <td>7.466873e-37</td>\n",
       "      <td>7.768812e-36</td>\n",
       "      <td>2020-08-07 20:00:00</td>\n",
       "    </tr>\n",
       "    <tr>\n",
       "      <th>5</th>\n",
       "      <td>1175.528054</td>\n",
       "      <td>528.133152</td>\n",
       "      <td>9.017117</td>\n",
       "      <td>-2286.152144</td>\n",
       "      <td>7.466873e-37</td>\n",
       "      <td>9.237705e-36</td>\n",
       "      <td>2020-08-07 19:00:00</td>\n",
       "    </tr>\n",
       "    <tr>\n",
       "      <th>6</th>\n",
       "      <td>1191.041400</td>\n",
       "      <td>544.942768</td>\n",
       "      <td>9.017117</td>\n",
       "      <td>-2262.001964</td>\n",
       "      <td>7.466873e-37</td>\n",
       "      <td>1.070660e-35</td>\n",
       "      <td>2020-08-07 18:00:00</td>\n",
       "    </tr>\n",
       "    <tr>\n",
       "      <th>7</th>\n",
       "      <td>1250.435617</td>\n",
       "      <td>604.094550</td>\n",
       "      <td>61.648578</td>\n",
       "      <td>-2180.451102</td>\n",
       "      <td>7.466873e-37</td>\n",
       "      <td>7.521257e+01</td>\n",
       "      <td>2020-08-07 17:00:00</td>\n",
       "    </tr>\n",
       "    <tr>\n",
       "      <th>8</th>\n",
       "      <td>1250.069464</td>\n",
       "      <td>603.643275</td>\n",
       "      <td>60.289856</td>\n",
       "      <td>-2181.593045</td>\n",
       "      <td>7.466873e-37</td>\n",
       "      <td>7.636671e+01</td>\n",
       "      <td>2020-08-07 16:00:00</td>\n",
       "    </tr>\n",
       "    <tr>\n",
       "      <th>9</th>\n",
       "      <td>1250.034855</td>\n",
       "      <td>603.590424</td>\n",
       "      <td>62.057137</td>\n",
       "      <td>-2182.119891</td>\n",
       "      <td>7.466873e-37</td>\n",
       "      <td>7.718064e+01</td>\n",
       "      <td>2020-08-07 15:00:00</td>\n",
       "    </tr>\n",
       "    <tr>\n",
       "      <th>10</th>\n",
       "      <td>1252.404719</td>\n",
       "      <td>606.163126</td>\n",
       "      <td>60.785210</td>\n",
       "      <td>-2178.168992</td>\n",
       "      <td>7.466873e-37</td>\n",
       "      <td>7.797825e+01</td>\n",
       "      <td>2020-08-07 14:00:00</td>\n",
       "    </tr>\n",
       "    <tr>\n",
       "      <th>11</th>\n",
       "      <td>1252.000245</td>\n",
       "      <td>605.683201</td>\n",
       "      <td>60.546088</td>\n",
       "      <td>-2178.946382</td>\n",
       "      <td>7.466873e-37</td>\n",
       "      <td>7.794165e+01</td>\n",
       "      <td>2020-08-07 13:00:00</td>\n",
       "    </tr>\n",
       "    <tr>\n",
       "      <th>12</th>\n",
       "      <td>1251.762289</td>\n",
       "      <td>605.484805</td>\n",
       "      <td>62.711390</td>\n",
       "      <td>-2179.140385</td>\n",
       "      <td>7.466873e-37</td>\n",
       "      <td>7.816967e+01</td>\n",
       "      <td>2020-08-07 12:00:00</td>\n",
       "    </tr>\n",
       "    <tr>\n",
       "      <th>13</th>\n",
       "      <td>1252.112326</td>\n",
       "      <td>605.938790</td>\n",
       "      <td>60.987348</td>\n",
       "      <td>-2178.673067</td>\n",
       "      <td>7.466873e-37</td>\n",
       "      <td>7.768526e+01</td>\n",
       "      <td>2020-08-07 11:00:00</td>\n",
       "    </tr>\n",
       "    <tr>\n",
       "      <th>14</th>\n",
       "      <td>1252.293141</td>\n",
       "      <td>606.192920</td>\n",
       "      <td>60.832940</td>\n",
       "      <td>-2178.636561</td>\n",
       "      <td>7.466873e-37</td>\n",
       "      <td>7.813062e+01</td>\n",
       "      <td>2020-08-07 10:00:00</td>\n",
       "    </tr>\n",
       "    <tr>\n",
       "      <th>15</th>\n",
       "      <td>1252.066256</td>\n",
       "      <td>605.860790</td>\n",
       "      <td>60.682153</td>\n",
       "      <td>-2178.896241</td>\n",
       "      <td>7.466873e-37</td>\n",
       "      <td>7.834659e+01</td>\n",
       "      <td>2020-08-07 09:00:00</td>\n",
       "    </tr>\n",
       "    <tr>\n",
       "      <th>16</th>\n",
       "      <td>1252.187577</td>\n",
       "      <td>606.099589</td>\n",
       "      <td>61.026963</td>\n",
       "      <td>-2178.317539</td>\n",
       "      <td>7.466873e-37</td>\n",
       "      <td>7.786935e+01</td>\n",
       "      <td>2020-08-07 08:00:00</td>\n",
       "    </tr>\n",
       "    <tr>\n",
       "      <th>17</th>\n",
       "      <td>1252.577329</td>\n",
       "      <td>606.622109</td>\n",
       "      <td>60.692959</td>\n",
       "      <td>-2177.979805</td>\n",
       "      <td>7.466873e-37</td>\n",
       "      <td>7.825575e+01</td>\n",
       "      <td>2020-08-07 07:00:00</td>\n",
       "    </tr>\n",
       "    <tr>\n",
       "      <th>18</th>\n",
       "      <td>1251.825430</td>\n",
       "      <td>605.885351</td>\n",
       "      <td>60.693502</td>\n",
       "      <td>-2178.116818</td>\n",
       "      <td>7.466873e-37</td>\n",
       "      <td>7.880383e+01</td>\n",
       "      <td>2020-08-07 06:00:00</td>\n",
       "    </tr>\n",
       "    <tr>\n",
       "      <th>19</th>\n",
       "      <td>1250.822964</td>\n",
       "      <td>604.812803</td>\n",
       "      <td>60.613216</td>\n",
       "      <td>-2179.447610</td>\n",
       "      <td>7.466873e-37</td>\n",
       "      <td>7.747474e+01</td>\n",
       "      <td>2020-08-07 05:00:00</td>\n",
       "    </tr>\n",
       "    <tr>\n",
       "      <th>20</th>\n",
       "      <td>1250.499033</td>\n",
       "      <td>604.542547</td>\n",
       "      <td>61.597914</td>\n",
       "      <td>-2179.088607</td>\n",
       "      <td>7.466873e-37</td>\n",
       "      <td>7.730999e+01</td>\n",
       "      <td>2020-08-07 04:00:00</td>\n",
       "    </tr>\n",
       "    <tr>\n",
       "      <th>21</th>\n",
       "      <td>1251.586139</td>\n",
       "      <td>605.707071</td>\n",
       "      <td>60.910220</td>\n",
       "      <td>-2177.834395</td>\n",
       "      <td>7.466873e-37</td>\n",
       "      <td>7.838652e+01</td>\n",
       "      <td>2020-08-07 03:00:00</td>\n",
       "    </tr>\n",
       "    <tr>\n",
       "      <th>22</th>\n",
       "      <td>1252.933560</td>\n",
       "      <td>607.127784</td>\n",
       "      <td>60.040664</td>\n",
       "      <td>-2176.602102</td>\n",
       "      <td>7.466873e-37</td>\n",
       "      <td>8.050720e+01</td>\n",
       "      <td>2020-08-07 02:00:00</td>\n",
       "    </tr>\n",
       "    <tr>\n",
       "      <th>23</th>\n",
       "      <td>1252.805830</td>\n",
       "      <td>607.127834</td>\n",
       "      <td>59.931426</td>\n",
       "      <td>-2177.373706</td>\n",
       "      <td>7.466873e-37</td>\n",
       "      <td>8.032954e+01</td>\n",
       "      <td>2020-08-07 01:00:00</td>\n",
       "    </tr>\n",
       "    <tr>\n",
       "      <th>24</th>\n",
       "      <td>1253.524036</td>\n",
       "      <td>608.187352</td>\n",
       "      <td>60.591482</td>\n",
       "      <td>-2175.147302</td>\n",
       "      <td>7.466873e-37</td>\n",
       "      <td>8.230328e+01</td>\n",
       "      <td>2020-08-07 00:00:00</td>\n",
       "    </tr>\n",
       "  </tbody>\n",
       "</table>\n",
       "</div>"
      ],
      "text/plain": [
       "          Ridge       Lasso  RandomForest          MLP           KNN  \\\n",
       "0   1174.921155  528.828769      9.017117 -2284.601648  7.466873e-37   \n",
       "1   1175.011881  528.622922      9.017117 -2285.041835  7.466873e-37   \n",
       "2   1175.189665  528.512801      9.017117 -2285.338198  7.466873e-37   \n",
       "3   1175.453622  528.545974      9.017117 -2285.384381  7.466873e-37   \n",
       "4   1175.490838  528.339563      9.017117 -2285.768262  7.466873e-37   \n",
       "5   1175.528054  528.133152      9.017117 -2286.152144  7.466873e-37   \n",
       "6   1191.041400  544.942768      9.017117 -2262.001964  7.466873e-37   \n",
       "7   1250.435617  604.094550     61.648578 -2180.451102  7.466873e-37   \n",
       "8   1250.069464  603.643275     60.289856 -2181.593045  7.466873e-37   \n",
       "9   1250.034855  603.590424     62.057137 -2182.119891  7.466873e-37   \n",
       "10  1252.404719  606.163126     60.785210 -2178.168992  7.466873e-37   \n",
       "11  1252.000245  605.683201     60.546088 -2178.946382  7.466873e-37   \n",
       "12  1251.762289  605.484805     62.711390 -2179.140385  7.466873e-37   \n",
       "13  1252.112326  605.938790     60.987348 -2178.673067  7.466873e-37   \n",
       "14  1252.293141  606.192920     60.832940 -2178.636561  7.466873e-37   \n",
       "15  1252.066256  605.860790     60.682153 -2178.896241  7.466873e-37   \n",
       "16  1252.187577  606.099589     61.026963 -2178.317539  7.466873e-37   \n",
       "17  1252.577329  606.622109     60.692959 -2177.979805  7.466873e-37   \n",
       "18  1251.825430  605.885351     60.693502 -2178.116818  7.466873e-37   \n",
       "19  1250.822964  604.812803     60.613216 -2179.447610  7.466873e-37   \n",
       "20  1250.499033  604.542547     61.597914 -2179.088607  7.466873e-37   \n",
       "21  1251.586139  605.707071     60.910220 -2177.834395  7.466873e-37   \n",
       "22  1252.933560  607.127784     60.040664 -2176.602102  7.466873e-37   \n",
       "23  1252.805830  607.127834     59.931426 -2177.373706  7.466873e-37   \n",
       "24  1253.524036  608.187352     60.591482 -2175.147302  7.466873e-37   \n",
       "\n",
       "    Dados da Planta                Data  \n",
       "0      1.893240e-36 2020-08-08 00:00:00  \n",
       "1      3.362133e-36 2020-08-07 23:00:00  \n",
       "2      4.831026e-36 2020-08-07 22:00:00  \n",
       "3      6.299919e-36 2020-08-07 21:00:00  \n",
       "4      7.768812e-36 2020-08-07 20:00:00  \n",
       "5      9.237705e-36 2020-08-07 19:00:00  \n",
       "6      1.070660e-35 2020-08-07 18:00:00  \n",
       "7      7.521257e+01 2020-08-07 17:00:00  \n",
       "8      7.636671e+01 2020-08-07 16:00:00  \n",
       "9      7.718064e+01 2020-08-07 15:00:00  \n",
       "10     7.797825e+01 2020-08-07 14:00:00  \n",
       "11     7.794165e+01 2020-08-07 13:00:00  \n",
       "12     7.816967e+01 2020-08-07 12:00:00  \n",
       "13     7.768526e+01 2020-08-07 11:00:00  \n",
       "14     7.813062e+01 2020-08-07 10:00:00  \n",
       "15     7.834659e+01 2020-08-07 09:00:00  \n",
       "16     7.786935e+01 2020-08-07 08:00:00  \n",
       "17     7.825575e+01 2020-08-07 07:00:00  \n",
       "18     7.880383e+01 2020-08-07 06:00:00  \n",
       "19     7.747474e+01 2020-08-07 05:00:00  \n",
       "20     7.730999e+01 2020-08-07 04:00:00  \n",
       "21     7.838652e+01 2020-08-07 03:00:00  \n",
       "22     8.050720e+01 2020-08-07 02:00:00  \n",
       "23     8.032954e+01 2020-08-07 01:00:00  \n",
       "24     8.230328e+01 2020-08-07 00:00:00  "
      ]
     },
     "execution_count": 12,
     "metadata": {},
     "output_type": "execute_result"
    }
   ],
   "source": [
    "Resultados = []\n",
    "for result in zip(ridge.predict(X1), Lassos.predict(X1), modelo.predict(X1), modelo_RedeNeural.predict(X1), \n",
    "                  modelo_knn.predict(X1), y1):\n",
    "    Resultados.append(result)\n",
    "scores = pd.DataFrame(Resultados, columns = ['Ridge', 'Lasso', 'RandomForest', 'MLP', 'KNN', 'Dados da Planta'])\n",
    "scores['Data'] = DataTempoT\n",
    "scores"
   ]
  },
  {
   "cell_type": "code",
   "execution_count": 13,
   "metadata": {},
   "outputs": [
    {
     "name": "stderr",
     "output_type": "stream",
     "text": [
      "C:\\ProgramData\\Anaconda3\\lib\\site-packages\\pandas\\plotting\\_converter.py:129: FutureWarning: Using an implicitly registered datetime converter for a matplotlib plotting method. The converter was registered by pandas on import. Future versions of pandas will require you to explicitly register matplotlib converters.\n",
      "\n",
      "To register the converters:\n",
      "\t>>> from pandas.plotting import register_matplotlib_converters\n",
      "\t>>> register_matplotlib_converters()\n",
      "  warnings.warn(msg, FutureWarning)\n"
     ]
    },
    {
     "data": {
      "image/png": "[encoded data removed]",
      "text/plain": [
       "<Figure size 432x288 with 1 Axes>"
      ]
     },
     "metadata": {
      "needs_background": "light"
     },
     "output_type": "display_data"
    }
   ],
   "source": [
    "plt.plot(scores['Data'], scores['Ridge'], color='blue' )\n",
    "plt.plot(scores['Data'], scores['Lasso'], color = 'green')\n",
    "plt.plot(scores['Data'], scores['RandomForest'], color = 'red')\n",
    "plt.plot(scores['Data'], scores['MLP'], color = 'gray')\n",
    "#plt.plot(scores['Data'], scores['KNN'], color='purple')\n",
    "plt.plot(scores['Data'], scores['Dados da Planta'], color='black')\n",
    "plt.xlabel(\"Data\")\n",
    "plt.ylabel(\"Produção de cimento (ton/h)\")\n",
    "plt.title('Comparação entre Modelos de Regressão')\n",
    "plt.legend()\n",
    "plt.show()"
   ]
  },
  {
   "cell_type": "markdown",
   "metadata": {},
   "source": [
    "## Variáveis importantes para cada modelo"
   ]
  },
  {
   "cell_type": "markdown",
   "metadata": {},
   "source": [
    "### Ridge"
   ]
  },
  {
   "cell_type": "code",
   "execution_count": 125,
   "metadata": {},
   "outputs": [
    {
     "data": {
      "text/plain": [
       "[(5.825036544339567, 'PP-Z1M03M1J1PID_Modo'),\n",
       " (0.7220680759554419, 'PP-Z1A01F1'),\n",
       " (0.31691073113538715, 'PP-Z1_CPIIZ32_CLINQUERMPRIMA_VAZ'),\n",
       " (0.21382756571667427, 'PP-Z1_CPIIZ32_CLINQUER_VAZ'),\n",
       " (0.1510493650199997, 'PP-Z1A02_F1'),\n",
       " (0.135137277882774, 'PP-Z1J13I1'),\n",
       " (0.07952331513229892, 'PP-Z1J03I1'),\n",
       " (0.009524820164742173, 'PP-Z1S01M1I1'),\n",
       " (0.002805745328271687, 'PP-Z1HT'),\n",
       " (-0.02393003545456886, 'PP-Z1P02M1I1'),\n",
       " (-0.07703725899217528, 'PP-Z1P02M1T5'),\n",
       " (-1.308224705705437, 'PP-Z1U05P5')]"
      ]
     },
     "execution_count": 125,
     "metadata": {},
     "output_type": "execute_result"
    }
   ],
   "source": [
    "Variaveis_importantes_Ridge"
   ]
  },
  {
   "cell_type": "markdown",
   "metadata": {},
   "source": [
    "### Lasso"
   ]
  },
  {
   "cell_type": "code",
   "execution_count": 126,
   "metadata": {},
   "outputs": [
    {
     "data": {
      "text/plain": [
       "[(0.7878154460850524, 'PP-Z1A01F1'),\n",
       " (0.2691043609955394, 'PP-Z1_CPIIZ32_CLINQUER_VAZ'),\n",
       " (0.1651122013788991, 'PP-Z1J03I1'),\n",
       " (0.16390795694341642, 'PP-Z1A02_F1'),\n",
       " (0.06901460072186874, 'PP-Z1_CPIIZ32_CLINQUERMPRIMA_VAZ'),\n",
       " (0.06322295385222995, 'PP-Z1J13I1'),\n",
       " (0.004595515171413848, 'PP-Z1P02M1I1'),\n",
       " (0.003165557248901824, 'PP-Z1HT'),\n",
       " (-0.0, 'PP-Z1U05P5'),\n",
       " (0.0, 'PP-Z1S01M1I1'),\n",
       " (-0.0, 'PP-Z1P02M1T5'),\n",
       " (0.0, 'PP-Z1M03M1J1PID_Modo')]"
      ]
     },
     "execution_count": 126,
     "metadata": {},
     "output_type": "execute_result"
    }
   ],
   "source": [
    "Variaveis_importantes_Lasso"
   ]
  },
  {
   "cell_type": "markdown",
   "metadata": {},
   "source": [
    "### RandomForestRegressor"
   ]
  },
  {
   "cell_type": "code",
   "execution_count": 43,
   "metadata": {},
   "outputs": [
    {
     "data": {
      "text/plain": [
       "[(0.48408988008586784, 'PP-Z1A01F1'),\n",
       " (0.28958575764108185, 'PP-Z1J03I1'),\n",
       " (0.12773702039742502, 'PP-Z1A02_F1'),\n",
       " (0.09734674549276173, 'PP-Z1J13I1'),\n",
       " (0.0005508724841092035, 'PP-Z1P02M1I1'),\n",
       " (0.00033220510412678713, 'PP-Z1_CPIIZ32_CLINQUERMPRIMA_VAZ'),\n",
       " (0.00012996727599839199, 'PP-Z1_CPIIZ32_CLINQUER_VAZ'),\n",
       " (0.00010736815141701637, 'PP-Z1P02M1T5'),\n",
       " (7.101631912013651e-05, 'PP-Z1HT'),\n",
       " (4.807110720746572e-05, 'PP-Z1S01M1I1'),\n",
       " (1.0959408845524824e-06, 'PP-Z1U05P5'),\n",
       " (0.0, 'PP-Z1M03M1J1PID_Modo')]"
      ]
     },
     "execution_count": 43,
     "metadata": {},
     "output_type": "execute_result"
    }
   ],
   "source": [
    "Variaveis_importantes_RandomForest"
   ]
  },
  {
   "cell_type": "code",
   "execution_count": 128,
   "metadata": {},
   "outputs": [
    {
     "name": "stdout",
     "output_type": "stream",
     "text": [
      "PP-Z1A01F1\n",
      "PP-Z1A02_F1\n",
      "PP-Z1J03I1\n",
      "PP-Z1M03M1J1PID_Modo\n",
      "PP-Z1S01M1I1\n",
      "PP-Z1J13I1\n",
      "PP-Z1_CPIIZ32_CLINQUERMPRIMA_VAZ\n",
      "PP-Z1_CPIIZ32_CLINQUER_VAZ\n",
      "PP-Z1P02M1T5\n",
      "PP-Z1P02M1I1\n",
      "PP-Z1HT\n",
      "PP-Z1U05P5\n"
     ]
    }
   ],
   "source": [
    "for x in range(0, 12):\n",
    "    print(Variaveis_importantes_RandomForest[x][1])"
   ]
  }
 ],
 "metadata": {
  "kernelspec": {
   "display_name": "Python 3",
   "language": "python",
   "name": "python3"
  },
  "language_info": {
   "codemirror_mode": {
    "name": "ipython",
    "version": 3
   },
   "file_extension": ".py",
   "mimetype": "text/x-python",
   "name": "python",
   "nbconvert_exporter": "python",
   "pygments_lexer": "ipython3",
   "version": "3.8.3"
  }
 },
 "nbformat": 4,
 "nbformat_minor": 2
}
