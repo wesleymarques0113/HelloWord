{
 "cells": [
  {
   "cell_type": "markdown",
   "metadata": {},
   "source": [
    "# Manipulação dos dados\n",
    "## Retirando variáveis inúteis, alterando variáveis string para binário e repartindo os dados em X e Y"
   ]
  },
  {
   "cell_type": "code",
   "execution_count": 2,
   "metadata": {},
   "outputs": [],
   "source": [
    "import pandas as pd\n",
    "import numpy as np\n",
    "import matplotlib.pyplot as plt\n",
    "%matplotlib notebook\n",
    "#Importar o DataSet\n",
    "\n",
    "#PC do estágio\n",
    "#data = pd.read_excel(\"C:/Users/est.wesleymg/OneDrive - Votorantim/Votorantim CA/Sistema PI/Dados_um_mes_poty_12variaveis_treino.xlsx\")\n",
    "#PC aqui de casa\n",
    "data = pd.read_excel(\"C:/Users/wesle/OneDrive - Votorantim/Votorantim CA/Sistema PI/Dados_1ano_poty_12variaveis_treino.xlsx\")\n",
    "\n",
    "#Apagando as variáveis que contém 'W' (Forno desativado)\n",
    "\n",
    "for tags in data.columns:\n",
    "    if 'W' in tags:\n",
    "        data = data.drop(tags, axis=1)\n",
    "\n",
    "# Alterando algumas variáveis do tipo string para valores binários\n",
    "\n",
    "data = data.replace('Bad', 1)\n",
    "data = data.replace('CPIIZ32', 1)\n",
    "data = data.replace('CPIIZ40', 2)\n",
    "data = data.replace('SemProducao', 0)\n",
    "data = data.replace('Ligado', 1)\n",
    "data = data.replace('Desligado', 0)\n",
    "data = data.replace('No Sample', 0)\n",
    "data = data.replace('Normal', 1)\n",
    "data = data.replace('No Data', 0)\n",
    "#data = data.drop('PP-Z1HE_CPIIZ32_OBS', axis=1)\n",
    "#Salvando as datas numa variável\n",
    "\n",
    "datatempo = data['Data'].copy\n",
    "\n",
    "#Apagando a variável Data do meu DataSet\n",
    "\n",
    "data = data.drop('Data', axis=1)\n",
    "\n",
    "#Separando as variáveis em X e Y\n",
    "\n",
    "X = data.drop('PP-Z1PRODUCAO', axis=1)\n",
    "y = data['PP-Z1PRODUCAO']\n"
   ]
  },
  {
   "cell_type": "markdown",
   "metadata": {},
   "source": [
    "# Dividindo os dados em teste e treino"
   ]
  },
  {
   "cell_type": "code",
   "execution_count": null,
   "metadata": {},
   "outputs": [],
   "source": [
    "from sklearn.model_selection import train_test_split\n",
    "\n",
    "X_train,X_test,y_train,y_test = train_test_split(X,y,random_state=0)"
   ]
  },
  {
   "cell_type": "markdown",
   "metadata": {},
   "source": [
    "# Aplicando os modelos (Ridge, Lasso, RandomForestRegressor, MLPRegressor)"
   ]
  },
  {
   "cell_type": "markdown",
   "metadata": {},
   "source": [
    "### Ridge"
   ]
  },
  {
   "cell_type": "code",
   "execution_count": null,
   "metadata": {},
   "outputs": [],
   "source": [
    "from sklearn.linear_model import Ridge\n",
    "ridge = Ridge()\n",
    "ridge.fit(X_train, y_train)\n",
    "train_score_ridge=ridge.score(X_train, y_train)\n",
    "test_score_ridge=ridge.score(X_test, y_test)\n",
    "\n",
    "print(train_score_ridge)\n",
    "print(test_score_ridge)"
   ]
  },
  {
   "cell_type": "code",
   "execution_count": null,
   "metadata": {},
   "outputs": [],
   "source": [
    "Variaveis_importantes_Ridge = []\n",
    "for tupla in sorted(zip(ridge.coef_, X.columns), reverse=True):\n",
    "    Variaveis_importantes_Ridge.append(tupla)"
   ]
  },
  {
   "cell_type": "markdown",
   "metadata": {},
   "source": [
    "### Lasso"
   ]
  },
  {
   "cell_type": "code",
   "execution_count": null,
   "metadata": {},
   "outputs": [],
   "source": [
    "from sklearn.linear_model import Lasso\n",
    "Lassos = Lasso(max_iter=100000)\n",
    "Lassos.fit(X_train, y_train)\n",
    "train_score_Lasso=Lassos.score(X_train, y_train)\n",
    "test_score_Lasso=Lassos.score(X_test, y_test)\n",
    "\n",
    "print(train_score_Lasso)\n",
    "print(test_score_Lasso)"
   ]
  },
  {
   "cell_type": "code",
   "execution_count": null,
   "metadata": {},
   "outputs": [],
   "source": [
    "Variaveis_importantes_Lasso = []\n",
    "for tupla1 in sorted(zip(Lassos.coef_, X.columns), reverse=True):\n",
    "    Variaveis_importantes_Lasso.append(tupla1)"
   ]
  },
  {
   "cell_type": "markdown",
   "metadata": {},
   "source": [
    "### RandomForestRegressor"
   ]
  },
  {
   "cell_type": "code",
   "execution_count": null,
   "metadata": {},
   "outputs": [],
   "source": [
    "from sklearn.ensemble import RandomForestRegressor\n",
    "from sklearn.model_selection import GridSearchCV\n",
    "parametros = {'n_estimators': [ 63, 65, 66], 'random_state':[0], 'max_features':['sqrt']}\n",
    "modelo_r = RandomForestRegressor()\n",
    "grid = GridSearchCV(modelo_r, param_grid=parametros, cv=3)\n",
    "grid.fit(X_train, y_train)\n",
    "print(f'Os melhores parâmetros são: {grid.best_estimator_} \\n com o score: {grid.best_score_}')\n"
   ]
  },
  {
   "cell_type": "code",
   "execution_count": null,
   "metadata": {},
   "outputs": [],
   "source": [
    "from sklearn.ensemble import RandomForestRegressor\n",
    "modelo = RandomForestRegressor(max_features='sqrt',n_estimators=63, random_state=0)\n",
    "modelo.fit(X_train,y_train)\n",
    "R2_treino = modelo.score(X_train,y_train)\n",
    "R2_teste = modelo.score(X_test,y_test)\n",
    "print(R2_treino)\n",
    "print(R2_teste)"
   ]
  },
  {
   "cell_type": "code",
   "execution_count": null,
   "metadata": {},
   "outputs": [],
   "source": [
    "Variaveis_importantes_RandomForest = []\n",
    "for tuplax in sorted(zip(modelo.feature_importances_, X.columns), reverse=True):\n",
    "    Variaveis_importantes_RandomForest.append(tuplax)"
   ]
  },
  {
   "cell_type": "markdown",
   "metadata": {},
   "source": [
    "### MLPRegressor"
   ]
  },
  {
   "cell_type": "code",
   "execution_count": null,
   "metadata": {},
   "outputs": [],
   "source": [
    "from sklearn.neural_network import MLPRegressor\n",
    "from sklearn.model_selection import GridSearchCV\n",
    "parametros_m = {'hidden_layer_sizes': [(14,14)], 'alpha':[1e-06, 1e-05, 1e-04, 1e-03, 1e-02, 1e-01, 1,10,20,50,100,200]}\n",
    "modelo_m = MLPRegressor(random_state=0, max_iter=10000, solver='lbfgs')\n",
    "grid_m = GridSearchCV(modelo_m, param_grid=parametros_m, cv=3)\n",
    "grid_m.fit(X_train, y_train)\n",
    "print(f'Os melhores parâmetros são: {grid_m.best_estimator_} \\n com o score: {grid_m.best_score_}')"
   ]
  },
  {
   "cell_type": "code",
   "execution_count": null,
   "metadata": {},
   "outputs": [],
   "source": [
    "from sklearn.neural_network import MLPRegressor\n",
    "modelo_RedeNeural = MLPRegressor(hidden_layer_sizes=(14,14), alpha=10,\n",
    "                                 solver='lbfgs', max_iter=10000, random_state=0).fit(X_train,y_train)\n",
    "R2_treino_RedeNeural = modelo_RedeNeural.score(X_train,y_train)\n",
    "R2_teste_RedeNeural = modelo_RedeNeural.score(X_test,y_test)\n",
    "\n",
    "print(R2_treino_RedeNeural)\n",
    "print(R2_teste_RedeNeural)"
   ]
  },
  {
   "cell_type": "code",
   "execution_count": null,
   "metadata": {},
   "outputs": [],
   "source": [
    "from sklearn.neighbors import KNeighborsRegressor\n",
    "modelo_knn = KNeighborsRegressor(n_neighbors=3).fit(X_train, y_train)\n",
    "R2_treino_knn = modelo_knn.score(X_train,y_train)\n",
    "R2_teste_knn = modelo_knn.score(X_test,y_test)\n",
    "print(R2_treino_knn)\n",
    "print(R2_teste_knn)"
   ]
  },
  {
   "cell_type": "markdown",
   "metadata": {},
   "source": [
    "# Importando dados de um dia de operação para realizar o teste dos modelos!"
   ]
  },
  {
   "cell_type": "code",
   "execution_count": null,
   "metadata": {},
   "outputs": [],
   "source": [
    "#caminho no PC do estágio\n",
    "#datat = pd.read_excel(\"C:/Users/est.wesleymg/OneDrive - Votorantim/Votorantim CA/Sistema PI/Dados_um_mes_poty_12variaveis_treino.xlsx\")\n",
    "#caminho no meu pc\n",
    "datat = pd.read_excel(\"C:/Users/werico/OneDrive - Votorantim/Votorantim CA/Sistema PI/Dados_um_mes_poty_12variaveis_teste.xlsx\")\n",
    "\n",
    "#Limpando dados do forno (que está desativado)\n",
    "for tags in datat.columns:\n",
    "    if 'W' in tags:\n",
    "        datat = datat.drop(tags, axis=1)\n",
    "        \n",
    "#Substituindo alguns valores de string por número\n",
    "datat = datat.replace('Bad', 1)\n",
    "datat = datat.replace('CPIIZ32', 1)\n",
    "datat = datat.replace('CPIIZ40', 1)\n",
    "datat = datat.replace('SemProducao', 0)\n",
    "datat = datat.replace('Ligado', 1)\n",
    "datat = datat.replace('Desligado', 0)\n",
    "datat = datat.replace('Normal', 1)\n",
    "datat = datat.replace('No Sample', 0)\n",
    "datat = datat.replace('Bad', 1)\n",
    "#datat = datat.drop('PP-Z1HE_CPIIZ32_OBS', axis=1)\n",
    "#Limpando valores do tipo texto\n",
    "#for tag in datat.columns:\n",
    "#    if datat[tag].dtype == object:\n",
    "#        datat = datat.drop(tag, axis=1)\n",
    "\n",
    "DataTempoT = datat['Data'].copy()\n",
    "#Apagando dados do tipo data\n",
    "datat = datat.drop('Data', axis=1)\n",
    "\n",
    "#Definindo eixo X e y\n",
    "X1 = datat.drop('PP-Z1PRODUCAO', axis=1)\n",
    "y1 = datat['PP-Z1PRODUCAO']"
   ]
  },
  {
   "cell_type": "markdown",
   "metadata": {},
   "source": [
    "# Comparando os resultados dos modelos"
   ]
  },
  {
   "cell_type": "code",
   "execution_count": null,
   "metadata": {},
   "outputs": [],
   "source": [
    "Resultados = []\n",
    "for result in zip(ridge.predict(X1), Lassos.predict(X1), modelo.predict(X1), modelo_RedeNeural.predict(X1), \n",
    "                  modelo_knn.predict(X1), y1):\n",
    "    Resultados.append(result)\n",
    "scores = pd.DataFrame(Resultados, columns = ['Ridge', 'Lasso', 'RandomForest', 'MLP', 'KNN', 'Dados da Planta'])\n",
    "scores['Data'] = DataTempoT\n",
    "scores"
   ]
  },
  {
   "cell_type": "code",
   "execution_count": null,
   "metadata": {},
   "outputs": [],
   "source": [
    "plt.plot(scores['Data'], scores['Ridge'], color='blue' )\n",
    "plt.plot(scores['Data'], scores['Lasso'], color = 'green')\n",
    "plt.plot(scores['Data'], scores['RandomForest'], color = 'red')\n",
    "plt.plot(scores['Data'], scores['MLP'], color = 'gray')\n",
    "#plt.plot(scores['Data'], scores['KNN'], color='purple')\n",
    "plt.plot(scores['Data'], scores['Dados da Planta'], color='black')\n",
    "plt.xlabel(\"Data\")\n",
    "plt.ylabel(\"Produção de cimento (ton/h)\")\n",
    "plt.title('Comparação entre Modelos de Regressão')\n",
    "plt.legend()\n",
    "plt.show()"
   ]
  },
  {
   "cell_type": "markdown",
   "metadata": {},
   "source": [
    "## Variáveis importantes para cada modelo"
   ]
  },
  {
   "cell_type": "markdown",
   "metadata": {},
   "source": [
    "### Ridge"
   ]
  },
  {
   "cell_type": "code",
   "execution_count": null,
   "metadata": {},
   "outputs": [],
   "source": [
    "Variaveis_importantes_Ridge"
   ]
  },
  {
   "cell_type": "markdown",
   "metadata": {},
   "source": [
    "### Lasso"
   ]
  },
  {
   "cell_type": "code",
   "execution_count": null,
   "metadata": {},
   "outputs": [],
   "source": [
    "Variaveis_importantes_Lasso"
   ]
  },
  {
   "cell_type": "markdown",
   "metadata": {},
   "source": [
    "### RandomForestRegressor"
   ]
  },
  {
   "cell_type": "code",
   "execution_count": null,
   "metadata": {},
   "outputs": [],
   "source": [
    "Variaveis_importantes_RandomForest"
   ]
  },
  {
   "cell_type": "code",
   "execution_count": null,
   "metadata": {},
   "outputs": [],
   "source": [
    "for x in range(0, 12):\n",
    "    print(Variaveis_importantes_RandomForest[x][1])"
   ]
  }
 ],
 "metadata": {
  "kernelspec": {
   "display_name": "Python 3",
   "language": "python",
   "name": "python3"
  },
  "language_info": {
   "codemirror_mode": {
    "name": "ipython",
    "version": 3
   },
   "file_extension": ".py",
   "mimetype": "text/x-python",
   "name": "python",
   "nbconvert_exporter": "python",
   "pygments_lexer": "ipython3",
   "version": "3.8.3"
  }
 },
 "nbformat": 4,
 "nbformat_minor": 2
}
