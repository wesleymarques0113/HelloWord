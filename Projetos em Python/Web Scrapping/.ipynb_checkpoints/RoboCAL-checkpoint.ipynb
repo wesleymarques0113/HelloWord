{
 "cells": [
  {
   "cell_type": "code",
   "execution_count": 1,
   "metadata": {},
   "outputs": [
    {
     "ename": "ModuleNotFoundError",
     "evalue": "No module named 'selenium'",
     "output_type": "error",
     "traceback": [
      "\u001b[1;31m---------------------------------------------------------------------------\u001b[0m",
      "\u001b[1;31mModuleNotFoundError\u001b[0m                       Traceback (most recent call last)",
      "\u001b[1;32m<ipython-input-1-1d5184db2676>\u001b[0m in \u001b[0;36m<module>\u001b[1;34m\u001b[0m\n\u001b[1;32m----> 1\u001b[1;33m \u001b[1;32mfrom\u001b[0m \u001b[0mselenium\u001b[0m \u001b[1;32mimport\u001b[0m \u001b[0mwebdriver\u001b[0m\u001b[1;33m\u001b[0m\u001b[1;33m\u001b[0m\u001b[0m\n\u001b[0m\u001b[0;32m      2\u001b[0m \u001b[1;32mfrom\u001b[0m \u001b[0mselenium\u001b[0m\u001b[1;33m.\u001b[0m\u001b[0mwebdriver\u001b[0m\u001b[1;33m.\u001b[0m\u001b[0mcommon\u001b[0m\u001b[1;33m.\u001b[0m\u001b[0mkeys\u001b[0m \u001b[1;32mimport\u001b[0m \u001b[0mKeys\u001b[0m\u001b[1;33m\u001b[0m\u001b[1;33m\u001b[0m\u001b[0m\n\u001b[0;32m      3\u001b[0m \u001b[1;32mimport\u001b[0m \u001b[0mtime\u001b[0m\u001b[1;33m\u001b[0m\u001b[1;33m\u001b[0m\u001b[0m\n\u001b[0;32m      4\u001b[0m \u001b[1;32mimport\u001b[0m \u001b[0mpyscreenshot\u001b[0m \u001b[1;32mas\u001b[0m \u001b[0mImageGrab\u001b[0m\u001b[1;33m\u001b[0m\u001b[1;33m\u001b[0m\u001b[0m\n\u001b[0;32m      5\u001b[0m \u001b[1;32mfrom\u001b[0m \u001b[0mdatetime\u001b[0m \u001b[1;32mimport\u001b[0m \u001b[0mdatetime\u001b[0m\u001b[1;33m\u001b[0m\u001b[1;33m\u001b[0m\u001b[0m\n",
      "\u001b[1;31mModuleNotFoundError\u001b[0m: No module named 'selenium'"
     ]
    }
   ],
   "source": [
    "from selenium import webdriver\n",
    "from selenium.webdriver.common.keys import Keys\n",
    "import time\n",
    "import pyscreenshot as ImageGrab\n",
    "from datetime import datetime"
   ]
  },
  {
   "cell_type": "code",
   "execution_count": 4,
   "metadata": {},
   "outputs": [],
   "source": [
    "def prt(nome): #Função para realizar o print da imagem e salvar a imagem\n",
    "    imagem = ImageGrab.grab(bbox=(78, 196, 1005, 395)) #x1,y1,x2,y2\n",
    "    imagem.save(nome, 'jpeg')\n",
    "\n",
    "data_atual = datetime.now()\n",
    "mes = data_atual.month\n",
    "fabricas = ['Laranjeiras', 'Pecém', 'PontaDaSerra', 'PotyPaulista', 'Primavera', 'Sobral', 'SãoLuis']\n",
    "documentos = ['TodosRequisitos', 'RequisitosLegais','OutrosRequisitos', 'TodosDocumentos']\n",
    "meses = ['Janeiro', 'Fevereiro', 'Março', 'Abril', 'Maio', 'Junho', 'Julho', 'Agosto', 'Setembro', 'Outubro', 'Novembro', 'Dezembro']\n",
    "\n",
    "driver = webdriver.Chrome() #Abre o chrome\n",
    "driver.get(\"https://www.sistemacal.com.br/Account/Login\") #Vai na página do portalCal\n",
    "time.sleep(3)\n",
    "#Realiza o login\n",
    "login = driver.find_element_by_xpath(\"//input[@name = 'Email']\")\n",
    "login.click()\n",
    "login.clear()\n",
    "login.send_keys(\"****************************************\") # Inserir o email\n",
    "#Coloca a senha e entra no site\n",
    "senha = driver.find_element_by_xpath(\"//input[@name = 'Password']\")\n",
    "senha.click()\n",
    "senha.clear()\n",
    "senha.send_keys('***********') #Inserir a Senha\n",
    "senha.send_keys(Keys.RETURN)\n",
    "time.sleep(8)\n",
    "\n",
    "for i in range(1,8):\n",
    "    c = 0\n",
    "    filtro = driver.find_element_by_xpath(\"/html/body/div[2]/header/nav/div[1]/div/div[1]/button/i\") #referência do filtro\n",
    "    filtro.click()\n",
    "    time.sleep(3)\n",
    "    if i == 1:\n",
    "        fabrica = driver.find_element_by_xpath(\"//*[@id='472empreendimentoContexto_anchor']/i[1]\")\n",
    "    elif i == 2:\n",
    "        fabrica = driver.find_element_by_xpath(\"//*[@id='472empreendimentoContexto_anchor']/i[1]\")\n",
    "        fabrica.click()\n",
    "        time.sleep(3)\n",
    "        fabrica = driver.find_element_by_xpath(\"//*[@id='507empreendimentoContexto_anchor']/i[1]\")\n",
    "    elif i == 3:\n",
    "        fabrica = driver.find_element_by_xpath(\"//*[@id='507empreendimentoContexto_anchor']/i[1]\")\n",
    "        fabrica.click()\n",
    "        time.sleep(3)\n",
    "        fabrica = driver.find_element_by_xpath(\"//*[@id='474empreendimentoContexto_anchor']/i[1]\")\n",
    "    elif i == 4:\n",
    "        fabrica = driver.find_element_by_xpath(\"//*[@id='474empreendimentoContexto_anchor']/i[1]\") \n",
    "        fabrica.click()\n",
    "        time.sleep(3)\n",
    "        fabrica = driver.find_element_by_xpath(\"//*[@id='506empreendimentoContexto_anchor']/i[1]\")\n",
    "    elif i == 5:\n",
    "        fabrica = driver.find_element_by_xpath(\"//*[@id='506empreendimentoContexto_anchor']/i[1]\") \n",
    "        fabrica.click()\n",
    "        time.sleep(3)\n",
    "        fabrica = driver.find_element_by_xpath(\"//*[@id='504empreendimentoContexto_anchor']/i[1]\")\n",
    "    elif i == 6:\n",
    "        fabrica = driver.find_element_by_xpath(\"//*[@id='504empreendimentoContexto_anchor']/i[1]\")\n",
    "        fabrica.click()\n",
    "        time.sleep(3)\n",
    "        fabrica = driver.find_element_by_xpath(\"//*[@id='501empreendimentoContexto_anchor']/i[1]\")\n",
    "    elif i == 7:\n",
    "        fabrica = driver.find_element_by_xpath(\"//*[@id='501empreendimentoContexto_anchor']/i[1]\") \n",
    "        fabrica.click()\n",
    "        time.sleep(3)\n",
    "        fabrica = driver.find_element_by_xpath(\"//*[@id='502empreendimentoContexto_anchor']/i[1]\")\n",
    "        \n",
    "    fabrica.click()\n",
    "    time.sleep(3)\n",
    "    bottom = driver.find_element_by_xpath(\"//*[@id='btnFormConfirmacao']\")\n",
    "    bottom.click()\n",
    "    time.sleep(10)\n",
    "    \n",
    "    for j in range(1,8,2):\n",
    "        c = c + 1\n",
    "        requisitos = driver.find_element_by_xpath(\"//*[@id='ddlFiltroMeuEspaco']\")\n",
    "        requisitos.click()\n",
    "        time.sleep(3)\n",
    "        tag = driver.find_element_by_xpath(f\"//*[@id='ddlFiltroMeuEspaco']/option[{j}]\")\n",
    "        tag.click()\n",
    "        time.sleep(12)\n",
    "        prt(f'{fabricas[i - 1]}_{documentos[c - 1]}_{meses[mes-2]}.jpg')\n",
    "##driver.close() #se quiser fechar a página, apagar a  #\n"
   ]
  },
  {
   "cell_type": "code",
   "execution_count": null,
   "metadata": {},
   "outputs": [],
   "source": []
  }
 ],
 "metadata": {
  "kernelspec": {
   "display_name": "Python 3",
   "language": "python",
   "name": "python3"
  },
  "language_info": {
   "codemirror_mode": {
    "name": "ipython",
    "version": 3
   },
   "file_extension": ".py",
   "mimetype": "text/x-python",
   "name": "python",
   "nbconvert_exporter": "python",
   "pygments_lexer": "ipython3",
   "version": "3.8.3"
  }
 },
 "nbformat": 4,
 "nbformat_minor": 2
}
